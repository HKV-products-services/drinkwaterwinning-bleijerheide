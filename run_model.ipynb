{
 "cells": [
  {
   "cell_type": "markdown",
   "id": "ae033c85-1290-4310-9b1b-cdac50042538",
   "metadata": {},
   "source": [
    "# Drinkwaterwinning Bleijerheide"
   ]
  },
  {
   "cell_type": "markdown",
   "id": "39b941ed-752c-473a-8d3c-b148fb2cd0e6",
   "metadata": {},
   "source": [
    "## Inladen Python pakketten"
   ]
  },
  {
   "cell_type": "code",
   "execution_count": null,
   "id": "b5584fd6-127e-4fc9-bd3a-8e33b1f05dad",
   "metadata": {},
   "outputs": [],
   "source": [
    "import tensorflow as tf\n",
    "from tensorflow import keras\n",
    "import pandas as pd\n",
    "import matplotlib.pyplot as plt\n",
    "from pathlib import Path\n",
    "import os\n",
    "os.environ[\"KMP_DUPLICATE_LIB_OK\"]=\"TRUE\""
   ]
  },
  {
   "cell_type": "markdown",
   "id": "6ab5c1f1-1bda-4479-b08b-1936f0aeb546",
   "metadata": {},
   "source": [
    "Nu laden we het getrainde model in:"
   ]
  },
  {
   "cell_type": "code",
   "execution_count": null,
   "id": "4c251888-f80f-4fea-a4e3-5dc581ee24a1",
   "metadata": {},
   "outputs": [],
   "source": [
    "model = tf.keras.models.load_model('./model')"
   ]
  },
  {
   "cell_type": "markdown",
   "id": "e9e8a2f0-6920-4a5c-b4f2-11f280bb2baf",
   "metadata": {},
   "source": [
    "De test periode is een periode waarvoor het model niet is getrained. \n",
    "\n",
    "*(De periode hiervoor volgt nu uit wat er in de onderstaande CSV-bestanden staat, we bouwen nog in dit notebook in dat deze periode flexibel is op te geven.)*"
   ]
  },
  {
   "cell_type": "markdown",
   "id": "6059f1f2-e88c-4fa1-af80-4864af1652d8",
   "metadata": {},
   "source": [
    "X_test is de afvoer van verhard gebied en dakoppervlak die is voorbewerkt.\n",
    "Dit is de invoerdata voor het model.\n",
    "\n",
    "Y_test is de bijbehorende neerslag (geen invoer, maar validatie)."
   ]
  },
  {
   "cell_type": "code",
   "execution_count": null,
   "id": "3b42a1b0-5982-450d-bf9e-271ec7a309b7",
   "metadata": {},
   "outputs": [],
   "source": [
    "os.getcwd()"
   ]
  },
  {
   "cell_type": "code",
   "execution_count": null,
   "id": "a8dbf5b6-decb-4034-b74b-abf3de223fd3",
   "metadata": {},
   "outputs": [],
   "source": [
    "X_test = pd.read_csv('data/X_test_scaled_new.csv', index_col=0, parse_dates=True)\n",
    "Y_test = pd.read_csv('data/Y_test_new.csv', index_col=0, parse_dates=True).rename(columns={'P':'P_meting'}, inplace=False)"
   ]
  },
  {
   "cell_type": "markdown",
   "id": "4fe3f60c-0d3e-4da2-9765-feae47d7dcba",
   "metadata": {},
   "source": [
    "We stoppen X_test in het model en daarkomt dan een gesimuleerde neerslag uit, y_hat:"
   ]
  },
  {
   "cell_type": "code",
   "execution_count": null,
   "id": "78062730-e1ee-4917-a776-df7666dd86ad",
   "metadata": {},
   "outputs": [],
   "source": [
    "y_hat = pd.DataFrame(index=X_test.index, data=model.predict(X_test), columns=['P_model'])\n",
    "# soms zijn waarden heel licht 0\n",
    "y_hat[y_hat['P_model'] < 0.] = 0."
   ]
  },
  {
   "cell_type": "code",
   "execution_count": null,
   "id": "a9e695a3-2ad2-48cd-869d-c1ab9c1f2d11",
   "metadata": {},
   "outputs": [],
   "source": [
    "def plot_resultaat(Y_test, y_hat, path=None):\n",
    "    Path('figuren_model').mkdir(parents=False, exist_ok=True)\n",
    "    # Functie om tijdreeksen te plotten\n",
    "    fig, ax = plt.subplots(1,1,figsize=(14,4))\n",
    "    ax.plot(y_hat.index, y_hat['P_model'], 'orange', linestyle='-', zorder=1, label='P_model')\n",
    "    ax.plot(Y_test.index, Y_test['P_meting'], zorder=0, label='P_meting')\n",
    "    plt.xlabel('Datum')\n",
    "    plt.ylabel('Neerslag [mm/]')\n",
    "    plt.legend()\n",
    "    plt.grid(True)\n",
    "    ax.set_xlim(y_hat.index[0], y_hat.index[-1])\n",
    "    plt.gca().spines['top'].set_visible(False)\n",
    "    plt.gca().spines['right'].set_visible(False)\n",
    "    plt.xticks(rotation=45)\n",
    "    plt.tight_layout()\n",
    "    plt.savefig(r'figuren_model/tijdreeksen_model_testperiode.png')"
   ]
  },
  {
   "cell_type": "markdown",
   "id": "59889443-fc74-433b-a20c-405dd5cb5dea",
   "metadata": {},
   "source": [
    "We plotten zowel de gemeten als de voorspelde neerslag..."
   ]
  },
  {
   "cell_type": "code",
   "execution_count": null,
   "id": "9d3d7bb0-f064-4353-b624-3c3756a73195",
   "metadata": {},
   "outputs": [],
   "source": [
    "plot_resultaat(Y_test, y_hat)"
   ]
  },
  {
   "cell_type": "markdown",
   "id": "6fbc0dc4-4b5d-43eb-9564-7649ddf0814e",
   "metadata": {},
   "source": [
    "... en schrijven ook het resultaat naar csv."
   ]
  },
  {
   "cell_type": "code",
   "execution_count": null,
   "id": "638a494a-9835-4ee9-ac1b-e85385681428",
   "metadata": {},
   "outputs": [],
   "source": [
    "output = pd.concat([y_hat, Y_test], axis=1, ignore_index=False)\n",
    "Path('tabellen_model').mkdir(parents=False, exist_ok=True)\n",
    "output.to_csv(r'tabellen_model/model_testperiode.csv', sep=\",\")"
   ]
  },
  {
   "cell_type": "code",
   "execution_count": null,
   "id": "f0a3fcb0-10f0-4a13-b4a3-1f2937f8fed9",
   "metadata": {},
   "outputs": [],
   "source": []
  }
 ],
 "metadata": {
  "kernelspec": {
   "display_name": "Python 3 (ipykernel)",
   "language": "python",
   "name": "python3"
  },
  "language_info": {
   "codemirror_mode": {
    "name": "ipython",
    "version": 3
   },
   "file_extension": ".py",
   "mimetype": "text/x-python",
   "name": "python",
   "nbconvert_exporter": "python",
   "pygments_lexer": "ipython3",
   "version": "3.10.13"
  }
 },
 "nbformat": 4,
 "nbformat_minor": 5
}
