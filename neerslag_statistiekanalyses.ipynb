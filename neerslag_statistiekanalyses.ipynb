{
 "cells": [
  {
   "cell_type": "markdown",
   "id": "830e99f2-4f83-444d-a677-727ae597fb37",
   "metadata": {},
   "source": [
    "# Drinkwaterwinning Bleijerheide\n",
    "\n"
   ]
  },
  {
   "cell_type": "markdown",
   "id": "7cb663d1-3230-412a-91d9-0048e983a29d",
   "metadata": {},
   "source": [
    "# Analyse reeks Maastricht"
   ]
  },
  {
   "cell_type": "code",
   "execution_count": null,
   "id": "84fcb6cd-680f-43b5-a0e6-383f7788e072",
   "metadata": {},
   "outputs": [],
   "source": [
    "import warnings\n",
    "warnings.filterwarnings(\"ignore\")\n",
    "import pandas as pd\n",
    "import os\n",
    "import numpy as np\n",
    "import matplotlib.pyplot as plt\n",
    "import pyextremes\n",
    "from pathlib import Path"
   ]
  },
  {
   "cell_type": "markdown",
   "id": "e4e70d00-1a22-4115-a7a1-9e7025b0015b",
   "metadata": {},
   "source": [
    "## Instellingen"
   ]
  },
  {
   "cell_type": "code",
   "execution_count": null,
   "id": "60ec1169-4d88-494b-be35-fafe98b41bc8",
   "metadata": {},
   "outputs": [],
   "source": [
    "drempel = 0.1 # mm - lager dan dit is 'droog'\n",
    "prec_hours = 24. # na een droogte tellen we de neerslag op over de eerste 24 uur\n",
    "min_duration = 3*24 # we nemen alleen droogtes mee die langer duren dan 7 dagen"
   ]
  },
  {
   "cell_type": "markdown",
   "id": "cb1a67a2-03eb-4771-a0a7-da0a70972b70",
   "metadata": {},
   "source": [
    "### Inlezen data\n",
    "\n",
    "Inlezen van data: als True worden de ruwe KNMI files inglezen, als False een tijdelijke (snellere) file met alleen de uur-reeks."
   ]
  },
  {
   "cell_type": "code",
   "execution_count": null,
   "id": "dcd1be8e-0b2d-4dc5-9398-b330bcf78e42",
   "metadata": {},
   "outputs": [],
   "source": [
    "alldata  = pd.read_csv(r'brondata/alle_data.csv')\n",
    "alldata.index = pd.to_datetime(alldata.iloc[:,0])"
   ]
  },
  {
   "cell_type": "markdown",
   "id": "bc5ff6ea-48ba-4316-96e4-acd1c46204a4",
   "metadata": {},
   "source": [
    "Zo ziet de reeks eruit tussen 1957 en 2023:"
   ]
  },
  {
   "cell_type": "code",
   "execution_count": null,
   "id": "ace530ed-7b8c-45e7-b43b-88779ebef191",
   "metadata": {},
   "outputs": [],
   "source": [
    "Path('figuren_statistiek').mkdir(exist_ok=True, parents=False)\n",
    "Path('tabellen_statistiek').mkdir(exist_ok=True, parents=False)\n",
    "ax = alldata.plot()\n",
    "ax.set_xlabel('')\n",
    "ax.set_ylabel('Neerslag [mm/u]')\n",
    "ax.set_title('Uurlijkse neerslag bij station Maastricht')\n",
    "plt.savefig(r'figuren_statistiek/helereeks_uurlijks.png')"
   ]
  },
  {
   "cell_type": "code",
   "execution_count": null,
   "id": "39c0c338-cf33-42bd-b36f-189283c9f3c3",
   "metadata": {},
   "outputs": [],
   "source": [
    "alldata['YEAR'] = alldata.index.year\n",
    "jaarsommen = alldata.groupby('YEAR').sum()['P']\n",
    "ax = plt.subplot()\n",
    "jaarsommen.plot()\n",
    "ax.set_ylabel('Jaarsom [mm]')\n",
    "ax.set_title('Jaarlijkse neerslag Maastricht')\n",
    "ax.grid()\n",
    "plt.savefig(r'figuren_statistiek/helereeks_jaarlijks.png')"
   ]
  },
  {
   "cell_type": "code",
   "execution_count": null,
   "id": "b58413d1-e3df-4c45-a158-65b4a956a61e",
   "metadata": {},
   "outputs": [],
   "source": [
    "alldata.to_csv(r'tabellen_statistiek/alle_neerslagdata.csv',index=False, sep=\",\")"
   ]
  },
  {
   "cell_type": "markdown",
   "id": "eb9acc03-c3c4-47c5-b420-583619df68e2",
   "metadata": {},
   "source": [
    "### Verzamel statistieken"
   ]
  },
  {
   "cell_type": "code",
   "execution_count": null,
   "id": "914e982f-90e2-452e-b629-31e78f61c9fc",
   "metadata": {},
   "outputs": [],
   "source": [
    "duration = []\n",
    "prec_after = []\n",
    "years = []\n",
    "endd = []\n",
    "n_event=0\n",
    "duration.append(0)\n",
    "prec_after.append(0.)\n",
    "years.append(0)\n",
    "endd.append(0)\n",
    "for year in alldata.index.year.unique():\n",
    "    subset = alldata[alldata.index.year == year]\n",
    "    subset.loc[subset['P'] < drempel, 'P'] = 0.\n",
    "    subset['dry'] = (subset.P == 0.)\n",
    "    subset['crossing'] = (subset.dry != subset.dry.shift()).cumsum()\n",
    "    subset['count'] = subset.groupby(['dry', 'crossing']).cumcount(ascending=False) + 1\n",
    "    subset.loc[subset.dry == False, 'count'] = 0\n",
    "    subset.loc[subset['dry'],'drynum'] = 1\n",
    "    subset.loc[~subset['dry'],'drynum'] = 0\n",
    "    for ind,dat in subset.iterrows():\n",
    "        if dat.dry:\n",
    "            duration[n_event]+=1\n",
    "        else:    \n",
    "            n_event += 1\n",
    "            duration.append(0)\n",
    "            prec_after.append(0)\n",
    "            years.append(0)\n",
    "            endd.append(0)\n",
    "            prec_after[n_event-1] = subset.loc[ind:ind+pd.Timedelta(hours=prec_hours),'P'].sum()\n",
    "            years[n_event-1] = year\n",
    "            endd[n_event-1] = ind            "
   ]
  },
  {
   "cell_type": "markdown",
   "id": "5b51847b-318c-4127-aa97-ee746a31c94d",
   "metadata": {},
   "source": [
    "En stop ze in een dataframe"
   ]
  },
  {
   "cell_type": "code",
   "execution_count": null,
   "id": "acf62d1c-7adf-42d0-a61f-62d856a6b20d",
   "metadata": {},
   "outputs": [],
   "source": [
    "results = [(s,p,d,y) for s,p,d,y in zip(endd, years, duration, prec_after) if d >= min_duration]\n",
    "resdf = pd.DataFrame(results)\n",
    "resdf.columns = ['Enddate', 'Year','Duration','Precipitation']     \n",
    "resdf.index = resdf['Enddate']\n",
    "resdf.loc[:,'Duration'] = resdf.Duration / 24.\n",
    "resdf"
   ]
  },
  {
   "cell_type": "code",
   "execution_count": null,
   "id": "9b57a748-7b9f-477b-b589-f776c388bcb6",
   "metadata": {},
   "outputs": [],
   "source": [
    "resdf.to_csv(r'tabellen_statistiek/alle_drooogte_gebeurtenissen.csv', index=False, sep=\",\")"
   ]
  },
  {
   "cell_type": "markdown",
   "id": "32a4357c-583e-4147-9faf-e08e65422df6",
   "metadata": {},
   "source": [
    "Bovenstaande tabel bevat alle events met een duur langer dan 'min_duration' (nu 3 dagen). De startdatum van het event; het jaar, de duur (in dagen) en de neerslag in de 24-uur eropvolgend."
   ]
  },
  {
   "cell_type": "markdown",
   "id": "da272100-3812-422d-bfea-74d816209bda",
   "metadata": {},
   "source": [
    "Plot de duur in uren van alle droogte events. Juni 2023 is best wel extreem...."
   ]
  },
  {
   "cell_type": "code",
   "execution_count": null,
   "id": "344e9835-148a-4e1a-bafd-15d7203055e8",
   "metadata": {},
   "outputs": [],
   "source": [
    "ax = plt.subplot()\n",
    "ax.plot(resdf.index, resdf.Duration, color='blue')\n",
    "ax.set_ylabel('Duur [dagen]')\n",
    "plt.savefig(r'figuren_statistiek/droogte_gebeurtenissen.png')"
   ]
  },
  {
   "cell_type": "markdown",
   "id": "8f845d3f-5c3d-47ad-9ee1-c179409b0a03",
   "metadata": {},
   "source": [
    "Dit zijn de langste - april/mei 2007 heeft het record: 37 dagen."
   ]
  },
  {
   "cell_type": "code",
   "execution_count": null,
   "id": "0e29bda4-1b41-41cd-9de4-e64ca95731ec",
   "metadata": {},
   "outputs": [],
   "source": [
    "resdf[resdf.Duration > 25]"
   ]
  },
  {
   "cell_type": "markdown",
   "id": "9e9cc92f-72f3-415d-95f1-757e1026f5d9",
   "metadata": {},
   "source": [
    "Is er een relatie tussen de duur en de eropvolgende neerslag? We verwachten het niet."
   ]
  },
  {
   "cell_type": "code",
   "execution_count": null,
   "id": "3745c506-ea99-4993-abb9-3e327d80eb50",
   "metadata": {},
   "outputs": [],
   "source": [
    "ax = plt.subplot()\n",
    "ax.plot(resdf.Duration, resdf.Precipitation, '.', color='blue')\n",
    "ax.set_xlabel('Duur droogte [dagen]')\n",
    "ax.set_ylabel('Neerslag na de droogte [mm]')\n",
    "ax.set_title('Duur vs neerslag erna')\n",
    "ax.grid()\n",
    "plt.savefig(r'figuren_statistiek/droogteduur_vs_eropvolgende_neerslag.png')"
   ]
  },
  {
   "cell_type": "markdown",
   "id": "98459a5b-f24b-47c1-b504-719a8089e563",
   "metadata": {},
   "source": [
    "Inderdaad."
   ]
  },
  {
   "cell_type": "markdown",
   "id": "cac7b2c3-9d7e-4831-b716-bd86ed5ad9d5",
   "metadata": {},
   "source": [
    "## Hoeveel van de neerslag raak je kwijt als na elke droogte (> 3 dagen) de eerste 2 mm wordt weggegooid?"
   ]
  },
  {
   "cell_type": "markdown",
   "id": "56b7c496-7d81-46a9-a3e0-daf9f1c61e4a",
   "metadata": {},
   "source": [
    "Maak een kopie van de resultaten en bewaaar alleen de neerslag na een droogte."
   ]
  },
  {
   "cell_type": "code",
   "execution_count": null,
   "id": "c77cc9f1-5164-43f5-aecf-c432de464554",
   "metadata": {},
   "outputs": [],
   "source": [
    "temp =resdf.copy(deep=True)\n",
    "temp.drop(['Enddate', 'Duration'], axis=1, inplace=True)"
   ]
  },
  {
   "cell_type": "markdown",
   "id": "f91e14d8-405c-4593-b5d0-928e838a201c",
   "metadata": {},
   "source": [
    "Als de bui groter is dan 2.0 mm wordt de eerste 2.0 mm weggegooid, anders de hele bui"
   ]
  },
  {
   "cell_type": "code",
   "execution_count": null,
   "id": "8f6ae86b-4ee2-46f7-9af3-cf1fc13f4135",
   "metadata": {},
   "outputs": [],
   "source": [
    "temp['Gemist'] = [p.Precipitation if p.Precipitation <= 2.0 else 2.0 for _,p in temp.iterrows()]"
   ]
  },
  {
   "cell_type": "code",
   "execution_count": null,
   "id": "7c052839-1c88-4155-90b4-da8248bbc42b",
   "metadata": {},
   "outputs": [],
   "source": [
    "temp"
   ]
  },
  {
   "cell_type": "markdown",
   "id": "0b96479a-a156-4322-952c-5464aa6e915f",
   "metadata": {},
   "source": [
    "Bereken de jaarsommen en vergelijk het met de totale jaarsom (zie boven)"
   ]
  },
  {
   "cell_type": "code",
   "execution_count": null,
   "id": "4759033e-0b39-4304-a732-4619700066a3",
   "metadata": {},
   "outputs": [],
   "source": [
    "sommen = temp.groupby(\"Year\").sum()[['Precipitation', 'Gemist']]\n",
    "sommen['Jaarsom'] = jaarsommen\n",
    "sommen['Jaarsom_rest'] = sommen['Jaarsom']  - sommen['Gemist'] \n",
    "sommen['Perc_gemist'] = (sommen['Gemist'] / sommen['Jaarsom']) * 100."
   ]
  },
  {
   "cell_type": "code",
   "execution_count": null,
   "id": "012c54e6-d969-49d2-9cd8-0793f8d3290f",
   "metadata": {},
   "outputs": [],
   "source": [
    "sommen"
   ]
  },
  {
   "cell_type": "code",
   "execution_count": null,
   "id": "a4e81d63-29bd-4a7a-8b86-a097e3c49c55",
   "metadata": {},
   "outputs": [],
   "source": [
    "sommen.to_csv(r'tabellen\\gemiste_neerslag_per_jaar.csv', index=False, sep=\",\")"
   ]
  },
  {
   "cell_type": "code",
   "execution_count": null,
   "id": "ed72f925-f6a8-4eb1-8623-c62fad995d06",
   "metadata": {},
   "outputs": [],
   "source": [
    "fig, ax = plt.subplots(3,1)\n",
    "sommen['Jaarsom'].plot(ax=ax[0])\n",
    "sommen['Gemist'].plot(ax=ax[1])\n",
    "sommen['Perc_gemist'].plot(ax=ax[2])\n",
    "ax[0].set_ylabel('Jaarsom [mm]')\n",
    "ax[1].set_ylabel('gemist  [mm]')\n",
    "ax[2].set_ylabel('% gemist [%]')\n",
    "ax[0].grid(); ax[1].grid(); ax[2].grid()\n",
    "plt.savefig(r'figuren_statistiek/gemiste_neersag_per_jaar.png')"
   ]
  },
  {
   "cell_type": "markdown",
   "id": "3550d105-f228-4495-809d-49ddb14d44a3",
   "metadata": {},
   "source": [
    "## Frequentie van voorkomen van droogtes"
   ]
  },
  {
   "cell_type": "markdown",
   "id": "040066c5-1324-4f33-9e73-f94e7d86fb52",
   "metadata": {},
   "source": [
    "Bereken het maximum van elke kolom"
   ]
  },
  {
   "cell_type": "code",
   "execution_count": null,
   "id": "b8a6dc0b-2e55-497e-a920-9e1e67fde868",
   "metadata": {},
   "outputs": [],
   "source": [
    "maxima = resdf.groupby('Year').max()"
   ]
  },
  {
   "cell_type": "markdown",
   "id": "08bd0cdc-f52e-4670-8d0f-c59cb515f3ed",
   "metadata": {},
   "source": [
    "resultaten gebaseerd op de maxima van de droogte"
   ]
  },
  {
   "cell_type": "code",
   "execution_count": null,
   "id": "7e4c640a-3848-4d7a-810e-6e1ea44afb8d",
   "metadata": {},
   "outputs": [],
   "source": [
    "sorteddf = resdf.copy(deep=True)\n",
    "sorteddf.index = sorteddf.Enddate\n",
    "sorteddf = sorteddf.loc[sorteddf[['Year','Duration']].groupby('Year').idxmax()['Duration'].values]"
   ]
  },
  {
   "cell_type": "code",
   "execution_count": null,
   "id": "04ce5f39-19f2-4349-8820-b6c67c213fc5",
   "metadata": {},
   "outputs": [],
   "source": [
    "sorteddf"
   ]
  },
  {
   "cell_type": "code",
   "execution_count": null,
   "id": "00c381af-5e1f-43b0-b74c-d504dddac889",
   "metadata": {},
   "outputs": [],
   "source": [
    "sorteddf.to_csv(r'tabellen_statistiek/max_droogteduur_perjaar_met_neerslag.csv', index=False, sep=\",\")"
   ]
  },
  {
   "cell_type": "markdown",
   "id": "912bf372-685a-4b1c-a3a5-1cb322a4200c",
   "metadata": {},
   "source": [
    "Bovenstaande tabel laat de langste droogte per jaar zien, met de eropvolgende neerslag."
   ]
  },
  {
   "cell_type": "markdown",
   "id": "b6e26339-d05e-44a8-b2ee-29cefebf3c01",
   "metadata": {},
   "source": [
    "Nog een check van de relatie: heeft de neerslag volgend op een droogte te maken met de lengte ervan? We plotten ze samen."
   ]
  },
  {
   "cell_type": "code",
   "execution_count": null,
   "id": "22feefd1-4fa0-4325-90c7-72a000ec9902",
   "metadata": {},
   "outputs": [],
   "source": [
    "ax = plt.subplot()\n",
    "ax.plot(sorteddf.Year, sorteddf.Duration, color='blue', label='Max. Duur (d)')\n",
    "ax.plot(sorteddf.Year, sorteddf.Precipitation, color='orange', label='Neerslag na max. droogte [mm]')\n",
    "ax.legend()\n",
    "ax.grid()\n",
    "ax.set_ylabel('Duur (dagen)/Neerslag [mm]')\n",
    "ax.set_title('Jaarmaximum droogte-duur met de eropvolgende neerslag')\n",
    "plt.savefig(r'figuren_statistiek/tijdreeks_droogtes_opvolgendeneerslag.png')"
   ]
  },
  {
   "cell_type": "markdown",
   "id": "1d559352-7cbf-439f-80f7-b84d27ee9950",
   "metadata": {},
   "source": [
    "Bepaal hoe vaak droogtes voorkomen. NB: 2007 en 2023 springen er echt uit!"
   ]
  },
  {
   "cell_type": "code",
   "execution_count": null,
   "id": "d6fab0e2-3219-41a3-911a-f36dc627cc2b",
   "metadata": {},
   "outputs": [],
   "source": [
    "ht = [1./((i-0.3)/(len(sorteddf.Duration)+0.4)) for i in range(len(sorteddf.Duration))]\n",
    "ax = plt.subplot()\n",
    "ax.plot(ht[1:], sorted(sorteddf.Duration[1:], reverse=True), '.')\n",
    "ax.semilogx()\n",
    "ax.grid()\n",
    "ax.set_xlabel('Herhalingstijd [jaren]')\n",
    "ax.set_ylabel('Droogteduur [dagen]')\n",
    "ax.set_title('Herhalingstijd van de jaarmaxima van de langste droogte')\n",
    "plt.savefig(r'figuren_statistiek/jaarmax_droogteduur.png')"
   ]
  },
  {
   "cell_type": "markdown",
   "id": "3fb98477-0b84-4dee-89b3-e602d773d0c9",
   "metadata": {},
   "source": [
    "Herhalingstijd van buien die na een droogte van tenminste een paar dagen vallen:"
   ]
  },
  {
   "cell_type": "code",
   "execution_count": null,
   "id": "09e9a60e-46b2-4877-8387-3a90a82f75db",
   "metadata": {},
   "outputs": [],
   "source": [
    "ht = [1./((i-0.3)/(len(maxima.Precipitation)+0.4)) for i in range(len(maxima.Precipitation))]\n",
    "ax = plt.subplot()\n",
    "ax.plot(ht[1:], sorted(maxima.Precipitation[1:], reverse=True), '.')\n",
    "ax.semilogx()\n",
    "ax.grid()\n",
    "ax.set_xlabel('Herhalingstijd [jaren]')\n",
    "ax.set_ylabel('Neerslag na droogte [mm]')\n",
    "ax.set_title('Herhalingstijd van de jaarmaxima van neerslag na een droogte')\n",
    "plt.savefig(r'figuren_statistiek/jaarmax_neerslag-na-droogte.png')"
   ]
  },
  {
   "cell_type": "code",
   "execution_count": null,
   "id": "2854fa9a-4713-4690-8185-adca8f1255c1",
   "metadata": {},
   "outputs": [],
   "source": [
    "resdf[resdf['Precipitation'] > 50]"
   ]
  },
  {
   "cell_type": "markdown",
   "id": "80eb4aa1-b777-4423-bd7b-5dc5e600c256",
   "metadata": {},
   "source": [
    "## POT statistiek"
   ]
  },
  {
   "cell_type": "markdown",
   "id": "3cf6434b-ca8f-4621-b572-a8630248298a",
   "metadata": {},
   "source": [
    "Peaks over threshold: bepaal alle droogtes met een duur langer dan 2 weken; dus niet alleen het jaarmaximum."
   ]
  },
  {
   "cell_type": "code",
   "execution_count": null,
   "id": "676d42d6-af05-49d6-9c2d-888cca627987",
   "metadata": {},
   "outputs": [],
   "source": [
    "from pyextremes import get_extremes, get_return_periods\n",
    "from pyextremes.plotting import plot_extremes"
   ]
  },
  {
   "cell_type": "code",
   "execution_count": null,
   "id": "9787e8d8-64c0-4a41-ae27-3caa063b0caf",
   "metadata": {},
   "outputs": [],
   "source": [
    "extremes = get_extremes(resdf.Duration, \"POT\", threshold=14, r=\"168H\")"
   ]
  },
  {
   "cell_type": "code",
   "execution_count": null,
   "id": "91ba44a9-7615-4589-9378-0ba21e10c4fa",
   "metadata": {},
   "outputs": [],
   "source": [
    "plot_extremes(\n",
    "    ts=resdf.Duration,\n",
    "    extremes=extremes,\n",
    "    extremes_method=\"POT\",\n",
    "    extremes_type=\"high\",\n",
    "    threshold=14, # ten minste 2  weken \n",
    "    r=\"168H\",\n",
    ")\n",
    "plt.savefig(r'figuren_statistiek/peaks_over_threshold.png')"
   ]
  },
  {
   "cell_type": "markdown",
   "id": "d3608ff9-1c35-493b-a706-21f4251a6a05",
   "metadata": {},
   "source": [
    "En schat de herhalingstijd ervan."
   ]
  },
  {
   "cell_type": "code",
   "execution_count": null,
   "id": "9076d9c1-d47c-4d64-ae87-bfb5f3d265c6",
   "metadata": {},
   "outputs": [],
   "source": [
    "return_periods = get_return_periods(\n",
    "    ts=resdf.Duration,\n",
    "    extremes=extremes,\n",
    "    extremes_method=\"POT\",\n",
    "    extremes_type=\"high\",    \n",
    "    return_period_size=\"365.2425D\",\n",
    "    plotting_position=\"weibull\",\n",
    ")\n",
    "return_periods.sort_values(\"return period\", ascending=False).head()"
   ]
  },
  {
   "cell_type": "markdown",
   "id": "b6e39320-c2b3-4fd7-8f29-008821e526b3",
   "metadata": {},
   "source": [
    "Plot de herhalingstijd, maar nu anders (betrouwbaarder?) geschat."
   ]
  },
  {
   "cell_type": "code",
   "execution_count": null,
   "id": "f5c56c46-9548-4545-a724-5fc64176ee10",
   "metadata": {},
   "outputs": [],
   "source": [
    "ax = plt.subplot()\n",
    "ax.plot(return_periods['return period'], return_periods.Duration,'.')\n",
    "ax.set_xlabel('Herhalingstijd [jaar]')\n",
    "ax.set_ylabel('Duur van de droogte [dagen]')\n",
    "ax.set_title('Droogteduur statistiek op basis van POT')\n",
    "ax.semilogx()\n",
    "ax.grid()\n",
    "plt.savefig(r'figuren_statistiek/herhalingstijd_droogteduur_pot.png')"
   ]
  },
  {
   "cell_type": "markdown",
   "id": "ac0987a6-02d5-45b0-8590-d712d2ecf151",
   "metadata": {},
   "source": [
    "## Conclusie"
   ]
  },
  {
   "cell_type": "markdown",
   "id": "6cefca80-333b-4387-adc9-0215b7eca0b0",
   "metadata": {},
   "source": [
    "- Getallen nog finetunen\n",
    "- Lange periodes van droogte vooral in het voorjaar, extremen nemen toe (op het oog)\n",
    "- Periode van ~2 weken komt elk jaar wel eens voor\n",
    "- Geen relatie met eropvolgende neerslag. Dat kan van alles zijn. \n"
   ]
  },
  {
   "cell_type": "code",
   "execution_count": null,
   "id": "5093f012-8376-452b-b3ad-4d9bb80e7d8d",
   "metadata": {},
   "outputs": [],
   "source": []
  }
 ],
 "metadata": {
  "kernelspec": {
   "display_name": "Python 3 (ipykernel)",
   "language": "python",
   "name": "python3"
  },
  "language_info": {
   "codemirror_mode": {
    "name": "ipython",
    "version": 3
   },
   "file_extension": ".py",
   "mimetype": "text/x-python",
   "name": "python",
   "nbconvert_exporter": "python",
   "pygments_lexer": "ipython3",
   "version": "3.10.13"
  }
 },
 "nbformat": 4,
 "nbformat_minor": 5
}
